{
  "nbformat": 4,
  "nbformat_minor": 0,
  "metadata": {
    "colab": {
      "provenance": []
    },
    "language_info": {
      "codemirror_mode": {
        "name": "ipython",
        "version": 3
      },
      "file_extension": ".py",
      "mimetype": "text/x-python",
      "name": "python",
      "nbconvert_exporter": "python",
      "pygments_lexer": "ipython3",
      "version": "3.5.6"
    },
    "kernelspec": {
      "name": "python3",
      "display_name": "Python 3"
    },
    "accelerator": "GPU"
  },
  "cells": [
    {
      "cell_type": "markdown",
      "metadata": {
        "id": "QrFBcY53HfH7"
      },
      "source": [
        "### Training a simple convolutional neural network on the MNIST dataset"
      ]
    },
    {
      "cell_type": "markdown",
      "metadata": {
        "id": "EdG2n8c9HfH9"
      },
      "source": [
        "#### Import packages\n",
        "Here we are using [Keras](https://github.com/keras-team/keras) with [TensorFlow](https://www.tensorflow.org/) to develop a **convolutional neural network (CNN)** to training the classification of digits in the [mnist dataset](http://yann.lecun.com/exdb/mnist/).\n",
        "\n",
        "Source: https://github.com/keras-team/keras/blob/master/examples/mnist_cnn.py"
      ]
    },
    {
      "cell_type": "code",
      "metadata": {
        "id": "lhHsLXvEOoZ8",
        "outputId": "88213d02-399f-403d-990a-f267578d7c6a",
        "colab": {
          "base_uri": "https://localhost:8080/"
        }
      },
      "source": [
        "! nvidia-smi -L"
      ],
      "execution_count": null,
      "outputs": [
        {
          "output_type": "stream",
          "text": [
            "GPU 0: Tesla P100-PCIE-16GB (UUID: GPU-df3ce1e0-c988-5f41-fbed-523f69f652e1)\n"
          ],
          "name": "stdout"
        }
      ]
    },
    {
      "cell_type": "code",
      "metadata": {
        "id": "jHKfnFKyHfIA"
      },
      "source": [
        "import tensorflow as tf\n",
        "from tensorflow import keras\n",
        "\n",
        "import numpy as np\n",
        "import matplotlib.pyplot as plt\n",
        "from matplotlib.ticker import MaxNLocator\n",
        "\n",
        "%matplotlib inline\n",
        "%config InlineBackend.figure_format = 'retina'\n",
        "plt.style.use('ggplot')\n"
      ],
      "execution_count": null,
      "outputs": []
    },
    {
      "cell_type": "markdown",
      "metadata": {
        "id": "4U7CTBIqHfIX"
      },
      "source": [
        "We explicitly define our MNIST image dimensions which will be used later to reshape our data."
      ]
    },
    {
      "cell_type": "code",
      "metadata": {
        "id": "PUYQ9M66HfIZ"
      },
      "source": [
        "img_rows, img_cols = 28, 28"
      ],
      "execution_count": null,
      "outputs": []
    },
    {
      "cell_type": "markdown",
      "metadata": {
        "id": "2ZOiWb-yHfIf"
      },
      "source": [
        "#### Load data\n",
        "We load our MNIST data like is the same way as we did in the earlier lab."
      ]
    },
    {
      "cell_type": "code",
      "metadata": {
        "id": "SB569scbHfIh",
        "outputId": "ee43d106-9222-45d9-d9a5-7f5b43cd6ece",
        "colab": {
          "base_uri": "https://localhost:8080/"
        }
      },
      "source": [
        "(x_train, y_train), (x_test, y_test) = keras.datasets.mnist.load_data()"
      ],
      "execution_count": null,
      "outputs": [
        {
          "output_type": "stream",
          "text": [
            "Downloading data from https://storage.googleapis.com/tensorflow/tf-keras-datasets/mnist.npz\n",
            "11493376/11490434 [==============================] - 0s 0us/step\n"
          ],
          "name": "stdout"
        }
      ]
    },
    {
      "cell_type": "code",
      "metadata": {
        "id": "wLbL0-OZdvrn",
        "outputId": "7a53b671-8aea-4c29-e6bd-0d5dc5d3097d",
        "colab": {
          "base_uri": "https://localhost:8080/"
        }
      },
      "source": [
        "print (x_train.shape)\n",
        "print (y_train.shape)\n",
        "print (x_test.shape)\n",
        "print (y_test.shape)"
      ],
      "execution_count": null,
      "outputs": [
        {
          "output_type": "stream",
          "text": [
            "(60000, 28, 28)\n",
            "(60000,)\n",
            "(10000, 28, 28)\n",
            "(10000,)\n"
          ],
          "name": "stdout"
        }
      ]
    },
    {
      "cell_type": "markdown",
      "metadata": {
        "id": "YwB631YjHfIv"
      },
      "source": [
        "\n",
        "Using tf.keras.layers.Conv2D\n",
        "============================\n",
        "(https://www.tensorflow.org/api_docs/python/tf/keras/layers/Conv2D)\n",
        "This layer creates a convolution kernel that is convolved with the layer input to produce a tensor of outputs. \n",
        "\n",
        "When using this layer as the first layer in a model, provide the keyword argument input_shape (tuple of integers, does not include the sample axis), e.g. input_shape=(128, 128, 3) for 128x128 RGB pictures in data_format=\"channels_last\".<br><br>\n",
        "\n",
        "data_format: A string, one of channels_last (default) or channels_first. The ordering of the dimensions in the inputs. channels_last corresponds to inputs with shape (batch, height, width, channels) while channels_first corresponds to inputs with shape (batch, channels, height, width). .\n",
        "\n",
        "\n",
        "\n"
      ]
    },
    {
      "cell_type": "markdown",
      "metadata": {
        "id": "q5ycxwX0HfIt"
      },
      "source": [
        "#### Data preprocessing "
      ]
    },
    {
      "cell_type": "code",
      "metadata": {
        "id": "-nGdgHN5HfIx"
      },
      "source": [
        "x_train = x_train.reshape(x_train.shape[0], img_rows, img_cols, 1)\n",
        "x_test = x_test.reshape(x_test.shape[0], img_rows, img_cols, 1)\n",
        "input_shape = (img_rows, img_cols, 1)"
      ],
      "execution_count": null,
      "outputs": []
    },
    {
      "cell_type": "markdown",
      "metadata": {
        "id": "VJbaedhXHfI4"
      },
      "source": [
        "We also normalize the pixel values and convert class vectors to binary class matrices like we did previously."
      ]
    },
    {
      "cell_type": "code",
      "metadata": {
        "id": "S7FBzEGcHfI9",
        "outputId": "61d47dda-6c55-4a0d-e7ea-3accc8f9e61d",
        "colab": {
          "base_uri": "https://localhost:8080/"
        }
      },
      "source": [
        "num_classes = 10\n",
        "x_train = x_train.astype('float32')\n",
        "x_test = x_test.astype('float32')\n",
        "\n",
        "# Comment out the two lines below to remove the normalization\n",
        "x_train /= 255\n",
        "x_test /= 255\n",
        "\n",
        "print('x_train shape:', x_train.shape)\n",
        "print(x_train.shape[0], 'train samples')\n",
        "print(x_test.shape[0], 'test samples')\n",
        "\n",
        "y_train = keras.utils.to_categorical(y_train, num_classes)\n",
        "y_test = keras.utils.to_categorical(y_test, num_classes)"
      ],
      "execution_count": null,
      "outputs": [
        {
          "output_type": "stream",
          "text": [
            "x_train shape: (60000, 28, 28, 1)\n",
            "60000 train samples\n",
            "10000 test samples\n"
          ],
          "name": "stdout"
        }
      ]
    },
    {
      "cell_type": "markdown",
      "metadata": {
        "id": "7KHxUciAHfJK"
      },
      "source": [
        "### What does it mean to be a convolutional neural network?"
      ]
    },
    {
      "cell_type": "markdown",
      "metadata": {
        "id": "UrZsY4f_HfJM"
      },
      "source": [
        "#### Three steps to create a CNN\n",
        "1. Convolution\n",
        "2. Non-linearity activation\n",
        "3. Pooling\n",
        "\n",
        "Repeat Steps 1,2,3 for adding more hidden layers.\n",
        "\n",
        "4. After that make a fully connected network\n",
        "\n",
        "This fully connected network gives ability to the CNN to classify the samples."
      ]
    },
    {
      "cell_type": "markdown",
      "metadata": {
        "id": "lVtHsGfaHfJP"
      },
      "source": [
        "#### 1. Convolution\n",
        "\n",
        "Blue maps are inputs, and cyan maps are outputs.\n",
        "\n",
        "<table style=\"width:100%; table-layout:fixed;\">\n",
        "  <tr>\n",
        "    \n",
        "    <td href=\"https://drive.google.com/uc?export=view&id=1N14O_UPfzeIr1VtnljBeCw9v3Lmn0J4P\"><img src=\"https://drive.google.com/uc?export=view&id=1N14O_UPfzeIr1VtnljBeCw9v3Lmn0J4P\" style=\"width: 200px; max-width: 100%; height: auto\" title=\"Click for the larger version.\" /></td>\n",
        "<td    href=\"https://drive.google.com/uc?export=view&id=10GFWz3vgFlKr1jw_CLguPy_pwbTrVeSS\"><img src=\"https://drive.google.com/uc?export=view&id=10GFWz3vgFlKr1jw_CLguPy_pwbTrVeSS\" style=\"width: 200px; max-width: 100%; height: auto\" title=\"Click for the larger version.\" /></td>\n",
        "<td href=\"https://drive.google.com/uc?export=view&id=1l2GMl_L3hb0E3ZfOxVkIV236nm1O7QH4\"><img src=\"https://drive.google.com/uc?export=view&id=1l2GMl_L3hb0E3ZfOxVkIV236nm1O7QH4\" style=\"width: 200px; max-width: 100%; height: auto\" title=\"Click for the larger version.\" /></td>\n",
        "    <td href=\"https://drive.google.com/uc?export=view&id=1Er0Pj2AErsL1-iHLrKpGsfbsiBkLTbsz\"><img src=\"https://drive.google.com/uc?export=view&id=1Er0Pj2AErsL1-iHLrKpGsfbsiBkLTbsz\" style=\"width: 200px; max-width: 100%; height: auto\" title=\"Click for the larger version.\" /></td>\n",
        "  </tr>\n",
        "  <tr >\n",
        "    <td >No padding, unit strides</td>\n",
        "    <td>Padding = 2 , unit strides</td>\n",
        "    <td>Unit padding, unit strides</td>\n",
        "    <td>Padding = 2, unit strides</td>\n",
        "  </tr>\n",
        "  <tr>\n",
        " <td href=\"https://drive.google.com/uc?export=view&id=1tzS2oe27TRsiaecNx-ZzNgLjl40gmOH9\"><img src=\"https://drive.google.com/uc?export=view&id=1tzS2oe27TRsiaecNx-ZzNgLjl40gmOH9\" style=\"width: 200px; max-width: 100%; height: auto\" title=\"Click for the larger version.\" /></td>\n",
        "<td href=\"https://drive.google.com/uc?export=view&id=1t5jxwh8XEm1a9DQCFcwr_cOrsGMLcSwM\"><img src=\"https://drive.google.com/uc?export=view&id=1t5jxwh8XEm1a9DQCFcwr_cOrsGMLcSwM\" style=\"width: 200px; max-width: 100%; height: auto\" title=\"Click for the larger version.\" /></td>\n",
        "<td href=\"https://drive.google.com/uc?export=view&id=1Ov7r_3FhbIOum19KbCcRqdrHo0MUQOj8\"><img src=\"https://drive.google.com/uc?export=view&id=1Ov7r_3FhbIOum19KbCcRqdrHo0MUQOj8\" style=\"width: 200px; max-width: 100%; height: auto\" title=\"Click for the larger version.\" /></td>\n",
        "\n",
        "    <td></td>\n",
        "  </tr>\n",
        "  <tr>\n",
        "    <td>No padding, stride = 2</td>\n",
        "    <td> Unit padding, stride = 2, even dimension image</td>\n",
        "    <td>Unit padding, stride =2, odd dimension image</td>\n",
        "    <td></td>\n",
        "  </tr>\n",
        "</table>"
      ]
    },
    {
      "cell_type": "markdown",
      "metadata": {
        "id": "MramZQbUHfJT"
      },
      "source": [
        "#### 2. Activation functions"
      ]
    },
    {
      "cell_type": "code",
      "metadata": {
        "id": "pTq4rpUSHfJU"
      },
      "source": [
        "# tf.keras.activations.softmax(x, axis=-1)\n",
        "\n",
        "# tf.keras.activations.relu(x, alpha=0.0, max_value=None, threshold=0.0)\n",
        "\n",
        "# tf.keras.activations.tanh(x)\n",
        "\n",
        "# tf.keras.activations.sigmoid(x)"
      ],
      "execution_count": null,
      "outputs": []
    },
    {
      "cell_type": "markdown",
      "metadata": {
        "id": "_KKQUwZiHfJa"
      },
      "source": [
        "Extra material:\n",
        "- [A guide to convolution arithmetic for deep learning](https://arxiv.org/abs/1603.07285)\n"
      ]
    },
    {
      "cell_type": "markdown",
      "metadata": {
        "id": "eZDpJYCzHfJc"
      },
      "source": [
        "#### Building the LeNet-5  with Keras\n",
        "We shall build a convolution neural network based from a  paper titled [Gradient-Based Learning Applied to Document Recognition](http://yann.lecun.com/exdb/publis/pdf/lecun-01a.pdf) in 1998 by Yann Lecun, Leon Bottou, Yoshua Bengio and Patrick Haffner.\n",
        "\n",
        "<a href=\"https://drive.google.com/uc?export=view&id=1xUSdjU5rnMjiN374Hv0EdSc9RnLJrqun\"><img src=\"https://drive.google.com/uc?export=view&id=1xUSdjU5rnMjiN374Hv0EdSc9RnLJrqun\" style=\"width: 500px; max-width: 100%; height: auto\" title=\"Click for the larger version.\" /></a>\n",
        "\n",
        "\n"
      ]
    },
    {
      "cell_type": "code",
      "metadata": {
        "id": "Hlna7Jj2HfJd"
      },
      "source": [
        "# Lenet\n",
        "\n",
        "model = tf.keras.Sequential()\n",
        "\n",
        "# first set of CONV => RELU => POOL\n",
        "model.add(tf.keras.layers.Conv2D(6, kernel_size=(5,5), \n",
        "                        strides=(1,1),\n",
        "                        padding='same', # adds sufficient padding to the input so that the output has same dimension as input\n",
        "                        input_shape=input_shape,\n",
        "                        use_bias=True, \n",
        "                        kernel_initializer='glorot_uniform',\n",
        "                        bias_initializer='zeros'))\n",
        "\n",
        "# Exercise : Complete the 3 activation functions\n",
        "model.add(tf.keras.layers.Activation('relu'))\n",
        "model.add(tf.keras.layers.MaxPooling2D(pool_size=(2, 2), strides=(2, 2)))\n",
        "\n",
        "# second set of CONV => RELU => POOL\n",
        "model.add(tf.keras.layers.Conv2D(16, kernel_size=(5,5), \n",
        "                        padding='valid'))\n",
        "model.add(tf.keras.layers.Activation('relu'))\n",
        "model.add(tf.keras.layers.MaxPooling2D(pool_size=(2, 2), strides=(2, 2)))\n",
        "\n",
        "\n",
        "model.add(tf.keras.layers.Conv2D(120, kernel_size=(5,5),\n",
        "                 padding='valid'))\n",
        "model.add(tf.keras.layers.Activation('relu'))\n",
        "\n",
        "model.add(tf.keras.layers.Flatten())\n",
        "model.add(tf.keras.layers.Dense(84))\n",
        "\n",
        "# Classifier\n",
        "model.add(tf.keras.layers.Dense(num_classes))\n",
        "\n",
        "# Exercise : Complete the activation function of the classifier\n",
        "model.add(tf.keras.layers.Activation('softmax'))"
      ],
      "execution_count": null,
      "outputs": []
    },
    {
      "cell_type": "code",
      "metadata": {
        "id": "8bfG5He0HfJi",
        "outputId": "396d1661-78cd-42d2-f201-d8c048d5e65a",
        "colab": {
          "base_uri": "https://localhost:8080/"
        }
      },
      "source": [
        "model.summary()"
      ],
      "execution_count": null,
      "outputs": [
        {
          "output_type": "stream",
          "text": [
            "Model: \"sequential_3\"\n",
            "_________________________________________________________________\n",
            "Layer (type)                 Output Shape              Param #   \n",
            "=================================================================\n",
            "conv2d_5 (Conv2D)            (None, 28, 28, 6)         156       \n",
            "_________________________________________________________________\n",
            "activation_5 (Activation)    (None, 28, 28, 6)         0         \n",
            "_________________________________________________________________\n",
            "max_pooling2d_2 (MaxPooling2 (None, 14, 14, 6)         0         \n",
            "_________________________________________________________________\n",
            "conv2d_6 (Conv2D)            (None, 10, 10, 16)        2416      \n",
            "_________________________________________________________________\n",
            "activation_6 (Activation)    (None, 10, 10, 16)        0         \n",
            "_________________________________________________________________\n",
            "max_pooling2d_3 (MaxPooling2 (None, 5, 5, 16)          0         \n",
            "_________________________________________________________________\n",
            "conv2d_7 (Conv2D)            (None, 1, 1, 120)         48120     \n",
            "_________________________________________________________________\n",
            "activation_7 (Activation)    (None, 1, 1, 120)         0         \n",
            "_________________________________________________________________\n",
            "flatten (Flatten)            (None, 120)               0         \n",
            "_________________________________________________________________\n",
            "dense (Dense)                (None, 84)                10164     \n",
            "_________________________________________________________________\n",
            "dense_1 (Dense)              (None, 10)                850       \n",
            "_________________________________________________________________\n",
            "activation_8 (Activation)    (None, 10)                0         \n",
            "=================================================================\n",
            "Total params: 61,706\n",
            "Trainable params: 61,706\n",
            "Non-trainable params: 0\n",
            "_________________________________________________________________\n"
          ],
          "name": "stdout"
        }
      ]
    },
    {
      "cell_type": "markdown",
      "metadata": {
        "id": "4zCY5rMcHfJp"
      },
      "source": [
        "- `conv2d_1` has 6 filters each of dimension 25, plus bias of size 6 for each corresponding filter to give 156 parameters: (1*(5 * 5 * 6)) + 6 = 156\n",
        "- `conv2d_2` has 16 filters each of dimension 25, acting on the 6 channels from the earlier layer plus bias of size 16 for each corresponding filter to give 2416 parameters: (6 *(25 * 16)) + 16 = 2416\n"
      ]
    },
    {
      "cell_type": "code",
      "metadata": {
        "id": "kkxU_pbRHfJr"
      },
      "source": [
        "model.compile(optimizer='SGD',\n",
        "              loss='categorical_crossentropy',\n",
        "              metrics=['accuracy'])"
      ],
      "execution_count": null,
      "outputs": []
    },
    {
      "cell_type": "markdown",
      "metadata": {
        "id": "wBQ-qKqOHfJy"
      },
      "source": [
        "## Training our model\n"
      ]
    },
    {
      "cell_type": "markdown",
      "metadata": {
        "id": "5F8pH4L0HfIP"
      },
      "source": [
        "Here we instantiate the values of hyperparameters that we will be using later. "
      ]
    },
    {
      "cell_type": "code",
      "metadata": {
        "id": "KmGJo-T4HfIR"
      },
      "source": [
        "batch_size = 128\n",
        "num_classes = 10\n",
        "epochs = 20"
      ],
      "execution_count": null,
      "outputs": []
    },
    {
      "cell_type": "code",
      "metadata": {
        "id": "haABZe2tHfJ5",
        "outputId": "2f830d35-b09d-4908-accc-db5ca7eb58c2",
        "colab": {
          "base_uri": "https://localhost:8080/"
        }
      },
      "source": [
        "model_log = model.fit(x_train, y_train,\n",
        "                      batch_size=batch_size, # number of samples to be used for each gradient update\n",
        "                      epochs=epochs, # number of iterations over the entire x_train data#                      \n",
        "                      validation_split = 0.1, #validation_data=(x_test, y_test), # on which to evaluate loss and model metrics at the end of each epoch\n",
        "                     )"
      ],
      "execution_count": null,
      "outputs": [
        {
          "output_type": "stream",
          "text": [
            "Epoch 1/20\n",
            "422/422 [==============================] - 2s 4ms/step - loss: 1.3603 - accuracy: 0.6076 - val_loss: 0.3960 - val_accuracy: 0.8837\n",
            "Epoch 2/20\n",
            "422/422 [==============================] - 2s 4ms/step - loss: 0.3599 - accuracy: 0.8892 - val_loss: 0.2297 - val_accuracy: 0.9360\n",
            "Epoch 3/20\n",
            "422/422 [==============================] - 2s 4ms/step - loss: 0.2499 - accuracy: 0.9248 - val_loss: 0.1685 - val_accuracy: 0.9530\n",
            "Epoch 4/20\n",
            "422/422 [==============================] - 2s 4ms/step - loss: 0.1899 - accuracy: 0.9429 - val_loss: 0.1367 - val_accuracy: 0.9623\n",
            "Epoch 5/20\n",
            "422/422 [==============================] - 2s 4ms/step - loss: 0.1529 - accuracy: 0.9545 - val_loss: 0.1107 - val_accuracy: 0.9697\n",
            "Epoch 6/20\n",
            "422/422 [==============================] - 2s 4ms/step - loss: 0.1289 - accuracy: 0.9616 - val_loss: 0.0991 - val_accuracy: 0.9725\n",
            "Epoch 7/20\n",
            "422/422 [==============================] - 2s 4ms/step - loss: 0.1127 - accuracy: 0.9657 - val_loss: 0.0927 - val_accuracy: 0.9722\n",
            "Epoch 8/20\n",
            "422/422 [==============================] - 2s 4ms/step - loss: 0.1004 - accuracy: 0.9696 - val_loss: 0.0836 - val_accuracy: 0.9770\n",
            "Epoch 9/20\n",
            "422/422 [==============================] - 2s 4ms/step - loss: 0.0924 - accuracy: 0.9717 - val_loss: 0.0816 - val_accuracy: 0.9778\n",
            "Epoch 10/20\n",
            "422/422 [==============================] - 2s 4ms/step - loss: 0.0838 - accuracy: 0.9740 - val_loss: 0.0798 - val_accuracy: 0.9788\n",
            "Epoch 11/20\n",
            "422/422 [==============================] - 2s 4ms/step - loss: 0.0780 - accuracy: 0.9759 - val_loss: 0.0714 - val_accuracy: 0.9803\n",
            "Epoch 12/20\n",
            "422/422 [==============================] - 2s 4ms/step - loss: 0.0738 - accuracy: 0.9769 - val_loss: 0.0690 - val_accuracy: 0.9810\n",
            "Epoch 13/20\n",
            "422/422 [==============================] - 2s 4ms/step - loss: 0.0690 - accuracy: 0.9787 - val_loss: 0.0730 - val_accuracy: 0.9793\n",
            "Epoch 14/20\n",
            "422/422 [==============================] - 2s 4ms/step - loss: 0.0653 - accuracy: 0.9798 - val_loss: 0.0691 - val_accuracy: 0.9812\n",
            "Epoch 15/20\n",
            "422/422 [==============================] - 2s 4ms/step - loss: 0.0620 - accuracy: 0.9810 - val_loss: 0.0610 - val_accuracy: 0.9832\n",
            "Epoch 16/20\n",
            "422/422 [==============================] - 2s 4ms/step - loss: 0.0588 - accuracy: 0.9819 - val_loss: 0.0695 - val_accuracy: 0.9803\n",
            "Epoch 17/20\n",
            "422/422 [==============================] - 2s 4ms/step - loss: 0.0561 - accuracy: 0.9832 - val_loss: 0.0666 - val_accuracy: 0.9810\n",
            "Epoch 18/20\n",
            "422/422 [==============================] - 2s 4ms/step - loss: 0.0536 - accuracy: 0.9837 - val_loss: 0.0694 - val_accuracy: 0.9797\n",
            "Epoch 19/20\n",
            "422/422 [==============================] - 2s 4ms/step - loss: 0.0513 - accuracy: 0.9842 - val_loss: 0.0601 - val_accuracy: 0.9833\n",
            "Epoch 20/20\n",
            "422/422 [==============================] - 2s 4ms/step - loss: 0.0502 - accuracy: 0.9851 - val_loss: 0.0625 - val_accuracy: 0.9812\n"
          ],
          "name": "stdout"
        }
      ]
    },
    {
      "cell_type": "markdown",
      "metadata": {
        "id": "zKwneWcHPIxE"
      },
      "source": [
        "## Plotting out the accuracy and loss\n",
        "Below we plot out the trend of the accuracy and loss of both the training set and validation set."
      ]
    },
    {
      "cell_type": "code",
      "metadata": {
        "id": "4SJPcKalHfKI",
        "outputId": "f523907c-5479-4a12-d2d2-3e4e3c762b4d",
        "colab": {
          "base_uri": "https://localhost:8080/",
          "height": 352
        }
      },
      "source": [
        "f, (ax1, ax2) = plt.subplots(1, 2,figsize=(15,5))\n",
        "\n",
        "ax1.plot(model_log.history['accuracy'])\n",
        "ax1.plot(model_log.history['val_accuracy'])\n",
        "ax1.set_title('Accuracy (Higher Better)')\n",
        "ax1.set(xlabel='Epoch', ylabel='Accuracy')\n",
        "ax1.legend(['train', 'validation'], loc='lower right')\n",
        "ax1.xaxis.set_major_locator(MaxNLocator(integer=True))\n",
        "\n",
        "ax2.plot(model_log.history['loss'])\n",
        "ax2.plot(model_log.history['val_loss'])\n",
        "ax2.set_title('Loss (Lower Better)')\n",
        "ax2.set(xlabel='Epoch', ylabel='Loss')\n",
        "ax2.legend(['train', 'validation'], loc='upper right')\n",
        "ax2.xaxis.set_major_locator(MaxNLocator(integer=True))"
      ],
      "execution_count": null,
      "outputs": [
        {
          "output_type": "display_data",
          "data": {
            "image/png": "[encoded data removed]",
            "text/plain": [
              "<Figure size 1080x360 with 2 Axes>"
            ]
          },
          "metadata": {
            "tags": [],
            "image/png": {
              "width": 896,
              "height": 335
            }
          }
        }
      ]
    },
    {
      "cell_type": "code",
      "metadata": {
        "id": "XpgffnJNHfKS",
        "outputId": "7a7a2ff9-1bcd-4c6a-91e8-d589f9776406",
        "colab": {
          "base_uri": "https://localhost:8080/"
        }
      },
      "source": [
        "score = model.evaluate(x_test, y_test, verbose=0)\n",
        "print('Test loss:', score[0])\n",
        "print('Test accuracy:', score[1])"
      ],
      "execution_count": null,
      "outputs": [
        {
          "output_type": "stream",
          "text": [
            "Test loss: 0.06226453185081482\n",
            "Test accuracy: 0.9796000123023987\n"
          ],
          "name": "stdout"
        }
      ]
    },
    {
      "cell_type": "markdown",
      "metadata": {
        "id": "OwU6G6CuHfKa"
      },
      "source": [
        "#### Visualizing the wrongly classified data"
      ]
    },
    {
      "cell_type": "code",
      "metadata": {
        "id": "stwJ3PT0HfKg",
        "outputId": "c20e7dd4-9654-4bb3-a146-02e9dbee5d51",
        "colab": {
          "base_uri": "https://localhost:8080/"
        }
      },
      "source": [
        "output = model.predict_classes(x_test)\n",
        "print (output)"
      ],
      "execution_count": null,
      "outputs": [
        {
          "output_type": "stream",
          "text": [
            "WARNING:tensorflow:From <ipython-input-19-565f2e827ff7>:1: Sequential.predict_classes (from tensorflow.python.keras.engine.sequential) is deprecated and will be removed after 2021-01-01.\n",
            "Instructions for updating:\n",
            "Please use instead:* `np.argmax(model.predict(x), axis=-1)`,   if your model does multi-class classification   (e.g. if it uses a `softmax` last-layer activation).* `(model.predict(x) > 0.5).astype(\"int32\")`,   if your model does binary classification   (e.g. if it uses a `sigmoid` last-layer activation).\n",
            "[7 2 1 ... 4 5 6]\n"
          ],
          "name": "stdout"
        }
      ]
    },
    {
      "cell_type": "code",
      "metadata": {
        "id": "ZW_lQopNHfKm"
      },
      "source": [
        "(x_train, y_train), (x_test, y_test) = tf.keras.datasets.mnist.load_data()\n",
        "ind = np.where(np.equal(output, y_test)==0)"
      ],
      "execution_count": null,
      "outputs": []
    },
    {
      "cell_type": "code",
      "metadata": {
        "id": "MrLIpmnxHfKt",
        "outputId": "fd682226-8ff3-4971-b7a5-0e9c1ee460b1",
        "colab": {
          "base_uri": "https://localhost:8080/"
        }
      },
      "source": [
        "err_x = x_test[ind[0]]\n",
        "err_y = output[ind[0]]\n",
        "print (err_x.shape)"
      ],
      "execution_count": null,
      "outputs": [
        {
          "output_type": "stream",
          "text": [
            "(204, 28, 28)\n"
          ],
          "name": "stdout"
        }
      ]
    },
    {
      "cell_type": "code",
      "metadata": {
        "id": "zXapZzMpHfK3"
      },
      "source": [
        "examples_per_class = 4\n",
        "classes = [0, 1, 2, 3, 4, 5, 6, 7, 8, 9]\n",
        "\n",
        "for cls, cls_name in enumerate(classes):\n",
        "  idxs = np.where(cls == err_y)\n",
        "  idxs = np.random.choice(idxs[0], examples_per_class, replace=False)\n",
        "  for i, idx in enumerate(idxs):\n",
        "    plt.subplot(examples_per_class, len(classes), i * len(classes) + cls + 1)\n",
        "    plt.imshow(err_x[idx].astype('uint8'), cmap = 'gray')\n",
        "    plt.axis('off')\n",
        "    if i == 0:\n",
        "      plt.title(cls_name)"
      ],
      "execution_count": null,
      "outputs": []
    }
  ]
}